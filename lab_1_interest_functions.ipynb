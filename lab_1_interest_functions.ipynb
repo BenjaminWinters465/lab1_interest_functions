{
  "nbformat": 4,
  "nbformat_minor": 0,
  "metadata": {
    "kernelspec": {
      "display_name": "Python 3",
      "language": "python",
      "name": "python3"
    },
    "language_info": {
      "codemirror_mode": {
        "name": "ipython",
        "version": 3
      },
      "file_extension": ".py",
      "mimetype": "text/x-python",
      "name": "python",
      "nbconvert_exporter": "python",
      "pygments_lexer": "ipython3",
      "version": "3.7.2"
    },
    "colab": {
      "name": "lab_1_interest_functions.ipynb",
      "provenance": [],
      "include_colab_link": true
    }
  },
  "cells": [
    {
      "cell_type": "markdown",
      "metadata": {
        "id": "view-in-github",
        "colab_type": "text"
      },
      "source": [
        "<a href=\"https://colab.research.google.com/github/BenjaminWinters465/lab1_interest_functions/blob/master/lab_1_interest_functions.ipynb\" target=\"_parent\"><img src=\"https://colab.research.google.com/assets/colab-badge.svg\" alt=\"Open In Colab\"/></a>"
      ]
    },
    {
      "cell_type": "markdown",
      "metadata": {
        "id": "NMJGaBjJudAA",
        "colab_type": "text"
      },
      "source": [
        "## Lab 1 - Compound Interest Functions\n",
        "\n",
        "Below you will find a table of important formulae related to compound interest.  \n",
        "\n",
        "<img src=\"https://www.dummies.com/wp-content/uploads/251689.image0.jpg\" alt=\"image0.jpg\" width=\"400\" height=\"319\">\n",
        "\n",
        "In this lab, you will create functions for each of these using (and documenting) the following workflow.\n",
        "\n",
        "1. Work out the correct answer for a few examples. *Hint* Search for e.g. \"worked out compound interest examples\" on the web.\n",
        "2. Write a `lambda` function and test this function on your test cases.\n",
        "3. Convert the `lambda` function to a `def` statement with an informative doc string that follows the [Google formating rules](https://google.github.io/styleguide/pyguide.html#383-functions-and-methods).\n",
        "4. Write an automated test function (using your previous examples) that will test your `def` statement function each time the code is executed."
      ]
    },
    {
      "cell_type": "markdown",
      "metadata": {
        "id": "cBFdbYK_udAJ",
        "colab_type": "text"
      },
      "source": [
        "#### Problem 1 -- Apply the process to create a simple interest functions."
      ]
    },
    {
      "cell_type": "code",
      "metadata": {
        "id": "dkvtOKzfudAU",
        "colab_type": "code",
        "colab": {
          "base_uri": "https://localhost:8080/",
          "height": 35
        },
        "outputId": "763b816b-3ec2-4503-8517-59ed9bd755ff"
      },
      "source": [
        "Prin = 10\n",
        "rate = .10\n",
        "time = 10\n",
        "simple_interest = Prin*rate*time\n",
        "simple_interest"
      ],
      "execution_count": 20,
      "outputs": [
        {
          "output_type": "execute_result",
          "data": {
            "text/plain": [
              "10.0"
            ]
          },
          "metadata": {
            "tags": []
          },
          "execution_count": 20
        }
      ]
    },
    {
      "cell_type": "code",
      "metadata": {
        "id": "hbFOlIKRvTGG",
        "colab_type": "code",
        "colab": {
          "base_uri": "https://localhost:8080/",
          "height": 35
        },
        "outputId": "fcae9888-e27b-461b-93fd-b6da6277825d"
      },
      "source": [
        "simple_interest = lambda Prin, rate, time: Prin*rate*time\n",
        "simple_interest(10,.10,10)"
      ],
      "execution_count": 21,
      "outputs": [
        {
          "output_type": "execute_result",
          "data": {
            "text/plain": [
              "10.0"
            ]
          },
          "metadata": {
            "tags": []
          },
          "execution_count": 21
        }
      ]
    },
    {
      "cell_type": "code",
      "metadata": {
        "id": "RFpu2JcCvkWk",
        "colab_type": "code",
        "colab": {}
      },
      "source": [
        "def simple_interest(Prin, rate, time):\n",
        "    \"\"\"Calculates simple interest when given the principle, interest rate \n",
        "     (expressed as a decimal; i.e. 10% = .10), and time (in years)\n",
        "     \n",
        "     Args: \n",
        "         Prin: a number representing the principle or initial investment\n",
        "         rate: a number representing the investment rate expressed as a \n",
        "               decimal; i.e. 10% = .10\n",
        "         time: a number representing time in number of years \n",
        "\n",
        "     Returns:\n",
        "         the final investment value at the end of the time period\n",
        "    \"\"\"\n",
        "    output = Prin*rate*time\n",
        "    return output\n",
        "\n",
        "def test_simple_interest():\n",
        "    assert simple_interest(10,.10,10) == 10\n",
        "test_simple_interest()"
      ],
      "execution_count": 69,
      "outputs": []
    },
    {
      "cell_type": "markdown",
      "metadata": {
        "id": "YAG1V3kcudBP",
        "colab_type": "text"
      },
      "source": [
        "#### Problem 2 -- Apply the process to create a compound interest functions."
      ]
    },
    {
      "cell_type": "code",
      "metadata": {
        "id": "XZJxIYrNudBc",
        "colab_type": "code",
        "colab": {
          "base_uri": "https://localhost:8080/",
          "height": 35
        },
        "outputId": "0f499d65-a36c-4e7f-9ab6-12f783739ec4"
      },
      "source": [
        "Prin = 10\n",
        "rate = .10\n",
        "compound = .01\n",
        "time = 10\n",
        "compound_interest = Prin*(1 + (rate/compound))**(compound*time)\n",
        "compound_interest"
      ],
      "execution_count": 17,
      "outputs": [
        {
          "output_type": "execute_result",
          "data": {
            "text/plain": [
              "12.709816152101407"
            ]
          },
          "metadata": {
            "tags": []
          },
          "execution_count": 17
        }
      ]
    },
    {
      "cell_type": "code",
      "metadata": {
        "id": "32L1X4NTxzhP",
        "colab_type": "code",
        "colab": {
          "base_uri": "https://localhost:8080/",
          "height": 35
        },
        "outputId": "daa39ab1-b952-404c-a802-45ac8e4e07ae"
      },
      "source": [
        "compound_interest = lambda Prin, rate, compound, time: Prin*(1 + (rate/compound))**(compound*time)\n",
        "compound_interest(10,.1,.01,10)"
      ],
      "execution_count": 19,
      "outputs": [
        {
          "output_type": "execute_result",
          "data": {
            "text/plain": [
              "12.709816152101407"
            ]
          },
          "metadata": {
            "tags": []
          },
          "execution_count": 19
        }
      ]
    },
    {
      "cell_type": "code",
      "metadata": {
        "id": "TRe_nUdayl8-",
        "colab_type": "code",
        "colab": {}
      },
      "source": [
        "def compound_interest(Prin, rate, compound, time):\n",
        "    \"\"\"Calculates compound interest when given the principle, interest rate \n",
        "       (expressed as a decimal; i.e. 10% = .10), compoundings, and time \n",
        "       (in years)\n",
        "       \n",
        "       Args:\n",
        "           Prin: a number representing the principle or initial investment\n",
        "           rate: a number representing the investment rate expressed as a \n",
        "               decimal; i.e. 10% = .10\n",
        "           compound: a number representing the number of times interest is applied\n",
        "           time: a number representing time in number of years\n",
        "\n",
        "       Returns:\n",
        "           the final investment value at the end of the time period\n",
        "    \"\"\"\n",
        "    output = Prin*(1 + (rate/compound))**(compound*time)\n",
        "    return output\n",
        "\n",
        "def test_compound_interest():\n",
        "    assert compound_interest(10,.1,.01,10) == 12.709816152101407\n",
        "test_compound_interest()"
      ],
      "execution_count": 67,
      "outputs": []
    },
    {
      "cell_type": "markdown",
      "metadata": {
        "id": "Mw5xK3QKudCC",
        "colab_type": "text"
      },
      "source": [
        "#### Problem 3 -- Apply the process to create a amortized loan payment function."
      ]
    },
    {
      "cell_type": "code",
      "metadata": {
        "id": "sTHbXbI3udCM",
        "colab_type": "code",
        "colab": {
          "base_uri": "https://localhost:8080/",
          "height": 35
        },
        "outputId": "c8ca4676-8753-4f3a-e75b-471d3325e098"
      },
      "source": [
        "Prin = 10\n",
        "interest = .10\n",
        "payments = 10\n",
        "amortized_loan = (Prin*interest)/(1-(1+interest)**(-payments))\n",
        "amortized_loan"
      ],
      "execution_count": 35,
      "outputs": [
        {
          "output_type": "execute_result",
          "data": {
            "text/plain": [
              "1.6274539488251152"
            ]
          },
          "metadata": {
            "tags": []
          },
          "execution_count": 35
        }
      ]
    },
    {
      "cell_type": "code",
      "metadata": {
        "id": "NT2ybceE2II1",
        "colab_type": "code",
        "colab": {
          "base_uri": "https://localhost:8080/",
          "height": 35
        },
        "outputId": "d39c0e1c-ccff-4539-8845-4a0829f86dd1"
      },
      "source": [
        "amortized_loan = lambda Prin, interest, payments: (Prin*interest)/(1-(1+interest)**(-payments))\n",
        "amortized_loan(10,.1,10)"
      ],
      "execution_count": 36,
      "outputs": [
        {
          "output_type": "execute_result",
          "data": {
            "text/plain": [
              "1.6274539488251152"
            ]
          },
          "metadata": {
            "tags": []
          },
          "execution_count": 36
        }
      ]
    },
    {
      "cell_type": "code",
      "metadata": {
        "id": "wlS3RGSr2R2S",
        "colab_type": "code",
        "colab": {}
      },
      "source": [
        "def amortized_loan(Prin, interest, payments):\n",
        "    \"\"\"Calculates an amortized loan payment when given the amount borrowed or \n",
        "       principle, interest rate per period (expressed as a decimal; \n",
        "       i.e. 10% = .10), and number of payments\n",
        "       \n",
        "       Args:\n",
        "           Prin: a number representing the principle or initial investment\n",
        "           interest: a number representing the interest rate per pay period\n",
        "           payments: a number representing the total number of payments\n",
        "\n",
        "       Returns:\n",
        "           an amount due per payment of an amortized loan\n",
        "    \"\"\"\n",
        "    output = (Prin*interest)/(1-(1+interest)**(-payments))\n",
        "    return output\n",
        "      \n",
        "def test_amortized_loan():\n",
        "    assert amortized_loan(10,.1,10)\n",
        "test_amortized_loan()"
      ],
      "execution_count": 66,
      "outputs": []
    },
    {
      "cell_type": "markdown",
      "metadata": {
        "id": "_OxVoI6QudCv",
        "colab_type": "text"
      },
      "source": [
        "#### Problem 4 -- Apply the process to create a remaining balance function"
      ]
    },
    {
      "cell_type": "code",
      "metadata": {
        "id": "M5CP-coludC2",
        "colab_type": "code",
        "colab": {
          "base_uri": "https://localhost:8080/",
          "height": 35
        },
        "outputId": "182aa745-8fcf-43ba-931f-4980f9388801"
      },
      "source": [
        "Reg_pay = 10\n",
        "interest = .1\n",
        "payments = 10\n",
        "num_payed = 5\n",
        "remaining_balance = Reg_pay*((1-(1+interest)**-(payments-num_payed))/interest)\n",
        "remaining_balance"
      ],
      "execution_count": 59,
      "outputs": [
        {
          "output_type": "execute_result",
          "data": {
            "text/plain": [
              "37.9078676940845"
            ]
          },
          "metadata": {
            "tags": []
          },
          "execution_count": 59
        }
      ]
    },
    {
      "cell_type": "code",
      "metadata": {
        "id": "OCcWnC7O30Y1",
        "colab_type": "code",
        "colab": {
          "base_uri": "https://localhost:8080/",
          "height": 35
        },
        "outputId": "c03d8119-e655-4f8f-f337-3dcb767048c7"
      },
      "source": [
        "remaining_balance = lambda Reg_pay, interest, payments, num_payed: Reg_pay*((1-(1+interest)**-(payments-num_payed))/interest)\n",
        "remaining_balance(10,.1,10,5)"
      ],
      "execution_count": 63,
      "outputs": [
        {
          "output_type": "execute_result",
          "data": {
            "text/plain": [
              "37.9078676940845"
            ]
          },
          "metadata": {
            "tags": []
          },
          "execution_count": 63
        }
      ]
    },
    {
      "cell_type": "code",
      "metadata": {
        "id": "qBL1Yj1-7C1V",
        "colab_type": "code",
        "colab": {}
      },
      "source": [
        "def remaining_balance(Reg_pay,interest, payments, num_payed):\n",
        "    \"\"\"Calculates the remaining balance of a loan when given the regular \n",
        "       payment amount, interest rate per period (expressed as a decimal; \n",
        "       i.e. 10% = .10), total number of payments, and number of payments \n",
        "       already made\n",
        "       \n",
        "       Args:\n",
        "           Reg_pay: a number representing the regular payment\n",
        "           interest: a number representing the interest rate per pay period\n",
        "           payments: a number representing the total number of payments\n",
        "           num_payed: a nubmer representing the number of payments already made\n",
        "\n",
        "       Returns:\n",
        "           the remaining balance on a loan after the specified number of \n",
        "           payments already made\n",
        "    \"\"\"\n",
        "    output = Reg_pay*((1-(1+interest)**-(payments-num_payed))/interest)\n",
        "    return output\n",
        "\n",
        "def test_remaining_balance():\n",
        "    assert remaining_balance(10,.1,10,5) == 37.9078676940845\n",
        "test_remaining_balance()"
      ],
      "execution_count": 65,
      "outputs": []
    }
  ]
}